{
 "cells": [
  {
   "cell_type": "code",
   "execution_count": 1,
   "metadata": {},
   "outputs": [],
   "source": [
    "import pandas as pd\n",
    "from scipy.stats import chi2_contingency\n",
    "\n",
    "# Read the CSV file\n",
    "data = pd.read_csv('prolific279.csv')"
   ]
  },
  {
   "cell_type": "code",
   "execution_count": 2,
   "metadata": {},
   "outputs": [
    {
     "name": "stdout",
     "output_type": "stream",
     "text": [
      "Chi-squared statistic: 24.422958057331524\n",
      "p-value: 0.4376362582186274\n",
      "Degrees of freedom: 24\n",
      "Expected frequencies: [[ 1.97818182  0.49454545  5.68727273  4.45090909  9.39636364 11.62181818\n",
      "  21.26545455  8.65454545  4.45090909]\n",
      " [ 2.00727273  0.50181818  5.77090909  4.51636364  9.53454545 11.79272727\n",
      "  21.57818182  8.78181818  4.51636364]\n",
      " [ 2.06545455  0.51636364  5.93818182  4.64727273  9.81090909 12.13454545\n",
      "  22.20363636  9.03636364  4.64727273]\n",
      " [ 1.94909091  0.48727273  5.60363636  4.38545455  9.25818182 11.45090909\n",
      "  20.95272727  8.52727273  4.38545455]]\n"
     ]
    }
   ],
   "source": [
    "independent_var1 = data['VarA']\n",
    "independent_var2 = data['VarB']\n",
    "dependent_var = data['Trust']\n",
    "\n",
    "# Create a contingency table\n",
    "contingency_table = pd.crosstab([independent_var1, independent_var2], dependent_var)\n",
    "\n",
    "# Perform chi-squared test\n",
    "chi2, p, dof, expected = chi2_contingency(contingency_table)\n",
    "\n",
    "print(\"Chi-squared statistic:\", chi2)\n",
    "print(\"p-value:\", p)\n",
    "print(\"Degrees of freedom:\", dof)\n",
    "print(\"Expected frequencies:\", expected)\n"
   ]
  }
 ],
 "metadata": {
  "kernelspec": {
   "display_name": "ML",
   "language": "python",
   "name": "python3"
  },
  "language_info": {
   "codemirror_mode": {
    "name": "ipython",
    "version": 3
   },
   "file_extension": ".py",
   "mimetype": "text/x-python",
   "name": "python",
   "nbconvert_exporter": "python",
   "pygments_lexer": "ipython3",
   "version": "3.10.9"
  },
  "orig_nbformat": 4
 },
 "nbformat": 4,
 "nbformat_minor": 2
}
