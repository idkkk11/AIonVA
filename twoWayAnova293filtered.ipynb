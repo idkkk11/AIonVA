{
 "cells": [
  {
   "cell_type": "code",
   "execution_count": 8,
   "id": "47ff4ef1-e8a9-4770-9e03-441030755993",
   "metadata": {},
   "outputs": [],
   "source": [
    "# Import the necessary libraries\n",
    "import pandas as pd\n",
    "import statsmodels.api as sm\n",
    "from statsmodels.formula.api import ols\n",
    "from statsmodels.stats.multicomp import MultiComparison\n",
    "\n",
    "# Used for Independent T-Test\n",
    "from scipy import stats"
   ]
  },
  {
   "cell_type": "code",
   "execution_count": 9,
   "id": "949a2fb8-bfc9-493b-8829-88c16289e2d0",
   "metadata": {},
   "outputs": [],
   "source": [
    "# Read the data from a file or create a DataFrame\n",
    "data = pd.read_csv('prolific293filtered.csv')"
   ]
  },
  {
   "cell_type": "code",
   "execution_count": 10,
   "id": "8cd84b96-2e77-40e0-a6a6-80fa32300dec",
   "metadata": {},
   "outputs": [
    {
     "name": "stdout",
     "output_type": "stream",
     "text": [
      "Perceived Reliability.\n",
      "                              sum_sq     df         F    PR(>F)\n",
      "C(Reference)                3.421268    1.0  0.904759  0.342399\n",
      "C(Accuracy)                26.776106    1.0  7.080980  0.008279\n",
      "C(Reference):C(Accuracy)    5.305910    1.0  1.403156  0.237286\n",
      "Residual                  975.604348  258.0       NaN       NaN\n"
     ]
    }
   ],
   "source": [
    "# Fit the two-way ANOVA model\n",
    "model = ols('Reliability ~ C(Reference) * C(Accuracy)', data=data).fit()\n",
    "\n",
    "# Perform the ANOVA\n",
    "anova_table = sm.stats.anova_lm(model, typ=2)\n",
    "\n",
    "print(\"Perceived Reliability.\")\n",
    "print(anova_table)"
   ]
  },
  {
   "cell_type": "code",
   "execution_count": 11,
   "id": "dae11069",
   "metadata": {},
   "outputs": [
    {
     "name": "stdout",
     "output_type": "stream",
     "text": [
      "Perceived Understanding.\n",
      "                               sum_sq     df          F    PR(>F)\n",
      "C(Reference)                 7.589354    1.0   1.165691  0.281297\n",
      "C(Accuracy)                139.663375    1.0  21.451671  0.000006\n",
      "C(Reference):C(Accuracy)     5.270021    1.0   0.809452  0.369121\n",
      "Residual                  1679.736301  258.0        NaN       NaN\n"
     ]
    }
   ],
   "source": [
    "# Fit the two-way ANOVA model\n",
    "model = ols('Understanding ~ C(Reference) * C(Accuracy)', data=data).fit()\n",
    "\n",
    "# Perform the ANOVA\n",
    "anova_table = sm.stats.anova_lm(model, typ=2)\n",
    "\n",
    "print(\"Perceived Understanding.\")\n",
    "print(anova_table)"
   ]
  },
  {
   "cell_type": "code",
   "execution_count": 12,
   "id": "483b515f",
   "metadata": {},
   "outputs": [
    {
     "name": "stdout",
     "output_type": "stream",
     "text": [
      "Perceived Intentions.\n",
      "                              sum_sq     df         F    PR(>F)\n",
      "C(Reference)                3.120986    1.0  1.200952  0.274153\n",
      "C(Accuracy)                 6.402156    1.0  2.463543  0.117741\n",
      "C(Reference):C(Accuracy)    2.773465    1.0  1.067226  0.302540\n",
      "Residual                  670.480090  258.0       NaN       NaN\n"
     ]
    }
   ],
   "source": [
    "# Fit the two-way ANOVA model\n",
    "model = ols('Intentions ~ C(Reference) * C(Accuracy)', data=data).fit()\n",
    "\n",
    "# Perform the ANOVA\n",
    "anova_table = sm.stats.anova_lm(model, typ=2)\n",
    "\n",
    "print(\"Perceived Intentions.\")\n",
    "print(anova_table)"
   ]
  },
  {
   "cell_type": "code",
   "execution_count": 13,
   "id": "7c3982ff",
   "metadata": {},
   "outputs": [
    {
     "name": "stdout",
     "output_type": "stream",
     "text": [
      "Propensity to Trust.\n",
      "                               sum_sq     df         F    PR(>F)\n",
      "C(Reference)                18.310434    1.0  4.247851  0.040302\n",
      "C(Accuracy)                  9.477192    1.0  2.198621  0.139355\n",
      "C(Reference):C(Accuracy)     1.723488    1.0  0.399833  0.527735\n",
      "Residual                  1112.113423  258.0       NaN       NaN\n"
     ]
    }
   ],
   "source": [
    "# Fit the two-way ANOVA model\n",
    "model = ols('Propensity ~ C(Reference) * C(Accuracy)', data=data).fit()\n",
    "\n",
    "# Perform the ANOVA\n",
    "anova_table = sm.stats.anova_lm(model, typ=2)\n",
    "\n",
    "print(\"Propensity to Trust.\")\n",
    "print(anova_table)"
   ]
  },
  {
   "cell_type": "code",
   "execution_count": 14,
   "id": "280e9674",
   "metadata": {},
   "outputs": [
    {
     "name": "stdout",
     "output_type": "stream",
     "text": [
      "Trust towards system.\n",
      "                              sum_sq     df          F    PR(>F)\n",
      "C(Reference)                7.112855    1.0   2.245655  0.135213\n",
      "C(Accuracy)                40.725840    1.0  12.857874  0.000402\n",
      "C(Reference):C(Accuracy)    3.425120    1.0   1.081371  0.299365\n",
      "Residual                  817.185404  258.0        NaN       NaN\n"
     ]
    }
   ],
   "source": [
    "# Fit the two-way ANOVA model\n",
    "model = ols('Trust ~ C(Reference) * C(Accuracy)', data=data).fit()\n",
    "\n",
    "# Perform the ANOVA\n",
    "anova_table = sm.stats.anova_lm(model, typ=2)\n",
    "\n",
    "print(\"Trust towards system.\")\n",
    "print(anova_table)"
   ]
  }
 ],
 "metadata": {
  "kernelspec": {
   "display_name": "Python 3 (ipykernel)",
   "language": "python",
   "name": "python3"
  },
  "language_info": {
   "codemirror_mode": {
    "name": "ipython",
    "version": 3
   },
   "file_extension": ".py",
   "mimetype": "text/x-python",
   "name": "python",
   "nbconvert_exporter": "python",
   "pygments_lexer": "ipython3",
   "version": "3.10.9"
  }
 },
 "nbformat": 4,
 "nbformat_minor": 5
}
