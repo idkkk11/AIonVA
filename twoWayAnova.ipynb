{
 "cells": [
  {
   "cell_type": "code",
   "execution_count": 14,
   "id": "47ff4ef1-e8a9-4770-9e03-441030755993",
   "metadata": {},
   "outputs": [],
   "source": [
    "# Import the necessary libraries\n",
    "import pandas as pd\n",
    "import statsmodels.api as sm\n",
    "from statsmodels.formula.api import ols\n",
    "\n",
    "# Used for Independent T-Test\n",
    "from scipy import stats"
   ]
  },
  {
   "cell_type": "code",
   "execution_count": 15,
   "id": "949a2fb8-bfc9-493b-8829-88c16289e2d0",
   "metadata": {},
   "outputs": [],
   "source": [
    "# Read the data from a file or create a DataFrame\n",
    "data = pd.read_csv('prolific200.csv')"
   ]
  },
  {
   "cell_type": "code",
   "execution_count": 16,
   "id": "8cd84b96-2e77-40e0-a6a6-80fa32300dec",
   "metadata": {},
   "outputs": [
    {
     "name": "stdout",
     "output_type": "stream",
     "text": [
      "Perceived reliability.\n",
      "                          sum_sq     df          F    PR(>F)\n",
      "VariableA              13.936998    1.0   1.128237  0.289514\n",
      "VariableB             174.660407    1.0  14.139224  0.000227\n",
      "VariableA:VariableB    42.981412    1.0   3.479460  0.063693\n",
      "Residual             2322.344942  188.0        NaN       NaN\n"
     ]
    }
   ],
   "source": [
    "# Fit the two-way ANOVA model\n",
    "model = ols('Reliability ~ VariableA * VariableB', data=data).fit()\n",
    "\n",
    "# Perform the ANOVA\n",
    "anova_table = sm.stats.anova_lm(model, typ=2)\n",
    "\n",
    "print(\"Perceived reliability.\")\n",
    "print(anova_table)"
   ]
  },
  {
   "cell_type": "code",
   "execution_count": 17,
   "id": "72c58e11",
   "metadata": {},
   "outputs": [
    {
     "name": "stdout",
     "output_type": "stream",
     "text": [
      "Perceived reliability, continuous.\n",
      "                                sum_sq     df          F    PR(>F)\n",
      "C(VariableA)                 13.936998    1.0   1.128237  0.289514\n",
      "C(VariableB)                174.660407    1.0  14.139224  0.000227\n",
      "C(VariableA):C(VariableB)    42.981412    1.0   3.479460  0.063693\n",
      "Residual                   2322.344942  188.0        NaN       NaN\n"
     ]
    }
   ],
   "source": [
    "# Fit the two-way ANOVA model\n",
    "model = ols('Reliability ~ C(VariableA) * C(VariableB)', data=data).fit()\n",
    "\n",
    "# Perform the ANOVA\n",
    "anova_table = sm.stats.anova_lm(model, typ=2)\n",
    "\n",
    "print(\"Perceived reliability, continuous.\")\n",
    "print(anova_table)"
   ]
  },
  {
   "cell_type": "code",
   "execution_count": 18,
   "id": "1041bd93-6e08-47bb-ac6b-c4526e18714f",
   "metadata": {},
   "outputs": [
    {
     "name": "stdout",
     "output_type": "stream",
     "text": [
      "Understanding.\n",
      "                          sum_sq     df          F    PR(>F)\n",
      "VariableA               8.977111    1.0   1.561947  0.212942\n",
      "VariableB              75.331980    1.0  13.107172  0.000379\n",
      "VariableA:VariableB    10.106545    1.0   1.758459  0.186434\n",
      "Residual             1074.761190  187.0        NaN       NaN\n"
     ]
    }
   ],
   "source": [
    "# Fit the two-way ANOVA model\n",
    "model = ols('Understanding ~ VariableA * VariableB', data=data).fit()\n",
    "\n",
    "# Perform the ANOVA\n",
    "anova_table = sm.stats.anova_lm(model, typ=2)\n",
    "\n",
    "print(\"Understanding.\")\n",
    "print(anova_table)"
   ]
  },
  {
   "cell_type": "code",
   "execution_count": 19,
   "id": "77cd8b22",
   "metadata": {},
   "outputs": [
    {
     "name": "stdout",
     "output_type": "stream",
     "text": [
      "Understanding, continuous.\n",
      "                                sum_sq     df          F    PR(>F)\n",
      "C(VariableA)                  8.977111    1.0   1.561947  0.212942\n",
      "C(VariableB)                 75.331980    1.0  13.107172  0.000379\n",
      "C(VariableA):C(VariableB)    10.106545    1.0   1.758459  0.186434\n",
      "Residual                   1074.761190  187.0        NaN       NaN\n"
     ]
    }
   ],
   "source": [
    "# Fit the two-way ANOVA model\n",
    "model = ols('Understanding ~ C(VariableA) * C(VariableB)', data=data).fit()\n",
    "\n",
    "# Perform the ANOVA\n",
    "anova_table = sm.stats.anova_lm(model, typ=2)\n",
    "\n",
    "print(\"Understanding, continuous.\")\n",
    "print(anova_table)"
   ]
  },
  {
   "cell_type": "code",
   "execution_count": 20,
   "id": "444898bc",
   "metadata": {},
   "outputs": [
    {
     "name": "stdout",
     "output_type": "stream",
     "text": [
      "                         sum_sq     df         F    PR(>F)\n",
      "VariableA              1.564649    1.0  0.342838  0.558883\n",
      "VariableB              0.528548    1.0  0.115813  0.733993\n",
      "VariableA:VariableB   12.510879    1.0  2.741325  0.099417\n",
      "Residual             876.251003  192.0       NaN       NaN\n"
     ]
    }
   ],
   "source": [
    "# Fit the two-way ANOVA model\n",
    "model = ols('Familiarity ~ VariableA * VariableB', data=data).fit()\n",
    "\n",
    "# Perform the ANOVA\n",
    "anova_table = sm.stats.anova_lm(model, typ=2)\n",
    "\n",
    "print(anova_table)"
   ]
  },
  {
   "cell_type": "code",
   "execution_count": 21,
   "id": "7d9c3abc",
   "metadata": {},
   "outputs": [
    {
     "name": "stdout",
     "output_type": "stream",
     "text": [
      "                         sum_sq     df         F    PR(>F)\n",
      "VariableA              0.042857    1.0  0.014988  0.902691\n",
      "VariableB              2.931231    1.0  1.025107  0.312585\n",
      "VariableA:VariableB    0.006191    1.0  0.002165  0.962936\n",
      "Residual             549.012177  192.0       NaN       NaN\n"
     ]
    }
   ],
   "source": [
    "# Fit the two-way ANOVA model\n",
    "model = ols('Intentions ~ VariableA * VariableB', data=data).fit()\n",
    "\n",
    "# Perform the ANOVA\n",
    "anova_table = sm.stats.anova_lm(model, typ=2)\n",
    "\n",
    "print(anova_table)"
   ]
  },
  {
   "cell_type": "code",
   "execution_count": 22,
   "id": "2dedc1f9",
   "metadata": {},
   "outputs": [
    {
     "name": "stdout",
     "output_type": "stream",
     "text": [
      "                         sum_sq     df         F    PR(>F)\n",
      "VariableA             16.646364    1.0  3.969748  0.047756\n",
      "VariableB              1.319588    1.0  0.314689  0.575478\n",
      "VariableA:VariableB    0.316467    1.0  0.075470  0.783832\n",
      "Residual             796.727891  190.0       NaN       NaN\n"
     ]
    }
   ],
   "source": [
    "# Fit the two-way ANOVA model\n",
    "model = ols('Propensity ~ VariableA * VariableB', data=data).fit()\n",
    "\n",
    "# Perform the ANOVA\n",
    "anova_table = sm.stats.anova_lm(model, typ=2)\n",
    "\n",
    "print(anova_table)"
   ]
  },
  {
   "cell_type": "code",
   "execution_count": 23,
   "id": "9983633c",
   "metadata": {},
   "outputs": [
    {
     "name": "stdout",
     "output_type": "stream",
     "text": [
      "Trust.\n",
      "                         sum_sq     df         F    PR(>F)\n",
      "VariableA              2.651992    1.0  0.751202  0.387167\n",
      "VariableB             22.152358    1.0  6.274864  0.013070\n",
      "VariableA:VariableB    1.736174    1.0  0.491788  0.483971\n",
      "Residual             684.884562  194.0       NaN       NaN\n"
     ]
    }
   ],
   "source": [
    "# Fit the two-way ANOVA model\n",
    "model = ols('Trust ~ VariableA * VariableB', data=data).fit()\n",
    "\n",
    "# Perform the ANOVA\n",
    "anova_table = sm.stats.anova_lm(model, typ=2)\n",
    "\n",
    "print(\"Trust.\")\n",
    "print(anova_table)"
   ]
  },
  {
   "cell_type": "code",
   "execution_count": 24,
   "id": "f190e79a",
   "metadata": {},
   "outputs": [
    {
     "name": "stdout",
     "output_type": "stream",
     "text": [
      "Trust, continuous.\n",
      "                               sum_sq     df         F    PR(>F)\n",
      "C(VariableA)                 2.651992    1.0  0.751202  0.387167\n",
      "C(VariableB)                22.152358    1.0  6.274864  0.013070\n",
      "C(VariableA):C(VariableB)    1.736174    1.0  0.491788  0.483971\n",
      "Residual                   684.884562  194.0       NaN       NaN\n"
     ]
    }
   ],
   "source": [
    "# Fit the two-way ANOVA model\n",
    "model = ols('Trust ~ C(VariableA) * C(VariableB)', data=data).fit()\n",
    "\n",
    "# Perform the ANOVA\n",
    "anova_table = sm.stats.anova_lm(model, typ=2)\n",
    "\n",
    "print(\"Trust, continuous.\")\n",
    "print(anova_table)"
   ]
  }
 ],
 "metadata": {
  "kernelspec": {
   "display_name": "Python 3 (ipykernel)",
   "language": "python",
   "name": "python3"
  },
  "language_info": {
   "codemirror_mode": {
    "name": "ipython",
    "version": 3
   },
   "file_extension": ".py",
   "mimetype": "text/x-python",
   "name": "python",
   "nbconvert_exporter": "python",
   "pygments_lexer": "ipython3",
   "version": "3.10.9"
  }
 },
 "nbformat": 4,
 "nbformat_minor": 5
}
