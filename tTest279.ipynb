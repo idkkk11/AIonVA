{
 "cells": [
  {
   "cell_type": "code",
   "execution_count": 1,
   "id": "47ff4ef1-e8a9-4770-9e03-441030755993",
   "metadata": {},
   "outputs": [],
   "source": [
    "# Import the necessary libraries\n",
    "import pandas as pd\n",
    "import statsmodels.api as sm\n",
    "from statsmodels.formula.api import ols\n",
    "\n",
    "# Used for Independent T-Test\n",
    "from scipy import stats"
   ]
  },
  {
   "cell_type": "code",
   "execution_count": 9,
   "id": "3b017a90",
   "metadata": {},
   "outputs": [
    {
     "name": "stdout",
     "output_type": "stream",
     "text": [
      "     ReliabilityA  UnderstandingA  FamiliarityA  IntentionsA  PropensityA  \\\n",
      "0             0.0            -3.0           8.0          4.0          1.0   \n",
      "1             8.0             4.0          10.0          6.0          4.0   \n",
      "2             9.0             2.0           5.0          6.0          4.0   \n",
      "3             7.0             4.0           8.0          6.0          6.0   \n",
      "4            11.0             6.0           9.0         10.0          3.0   \n",
      "..            ...             ...           ...          ...          ...   \n",
      "135           7.0             3.0           8.0          8.0          4.0   \n",
      "136           9.0             3.0          10.0          8.0          4.0   \n",
      "137           4.0             1.0           9.0          6.0          3.0   \n",
      "138          12.0             6.0           4.0          8.0          5.0   \n",
      "139           NaN             NaN           NaN          NaN          NaN   \n",
      "\n",
      "     TrustA  Unnamed: 6  ReliabilityB  UnderstandingB  FamiliarityB  ...  \\\n",
      "0       4.0         NaN           4.0             1.0          10.0  ...   \n",
      "1       7.0         NaN          11.0             0.0           3.0  ...   \n",
      "2       8.0         NaN           5.0             0.0           8.0  ...   \n",
      "3       8.0         NaN           6.0             1.0           8.0  ...   \n",
      "4       8.0         NaN           8.0             0.0           8.0  ...   \n",
      "..      ...         ...           ...             ...           ...  ...   \n",
      "135     8.0         NaN          12.0             8.0          10.0  ...   \n",
      "136     8.0         NaN           4.0             1.0           8.0  ...   \n",
      "137     5.0         NaN           9.0             2.0           NaN  ...   \n",
      "138     8.0         NaN           2.0             2.0           9.0  ...   \n",
      "139     NaN         NaN           7.0            -2.0           6.0  ...   \n",
      "\n",
      "     IntentionsC  PropensityC  TrustC  Unnamed: 20  ReliabilityD  \\\n",
      "0            2.0         -2.0     2.0          NaN           0.0   \n",
      "1            4.0          0.0     6.0          NaN           8.0   \n",
      "2            6.0          2.0     8.0          NaN           5.0   \n",
      "3            6.0          6.0     8.0          NaN           9.0   \n",
      "4           10.0          3.0     8.0          NaN           8.0   \n",
      "..           ...          ...     ...          ...           ...   \n",
      "135          8.0          6.0     9.0          NaN           7.0   \n",
      "136          8.0          4.0     8.0          NaN           2.0   \n",
      "137          7.0          3.0     8.0          NaN           9.0   \n",
      "138          6.0          3.0     5.0          NaN           7.0   \n",
      "139          8.0          5.0     8.0          NaN           NaN   \n",
      "\n",
      "     UnderstandingD  FamiliarityD  IntentionsD  PropensityD  TrustD  \n",
      "0              -3.0           8.0          4.0          1.0     4.0  \n",
      "1               4.0          10.0          6.0          4.0     7.0  \n",
      "2               0.0           8.0          6.0          1.0     5.0  \n",
      "3               2.0           5.0          6.0          4.0     8.0  \n",
      "4               0.0           8.0          6.0          3.0     6.0  \n",
      "..              ...           ...          ...          ...     ...  \n",
      "135             3.0           8.0          8.0          4.0     8.0  \n",
      "136             2.0           9.0          3.0          0.0     4.0  \n",
      "137             3.0          10.0          8.0          4.0     8.0  \n",
      "138            -2.0           6.0          7.0          2.0     8.0  \n",
      "139             NaN           NaN          NaN          NaN     NaN  \n",
      "\n",
      "[140 rows x 27 columns]\n"
     ]
    }
   ],
   "source": [
    "# FOR INDEPENDENT T TESTS\n",
    "data2 = pd.read_csv('tTest279.csv')"
   ]
  },
  {
   "cell_type": "code",
   "execution_count": 3,
   "id": "2d22ce2b",
   "metadata": {},
   "outputs": [
    {
     "name": "stdout",
     "output_type": "stream",
     "text": [
      "Independent t-test: Reliability Reference vs None.\n",
      "t-statistic: 1.2864473758672461\n",
      "p-value: 0.1994219860696068\n"
     ]
    }
   ],
   "source": [
    "group1 = data2['ReliabilityA'].dropna()\n",
    "group2 = data2['ReliabilityB'].dropna()\n",
    "\n",
    "t_statistic, p_value = stats.ttest_ind(group1, group2, equal_var=False)\n",
    "\n",
    "print(\"Independent t-test: Reliability Reference vs None.\")\n",
    "print(\"t-statistic:\", t_statistic)\n",
    "print(\"p-value:\", p_value)"
   ]
  },
  {
   "cell_type": "code",
   "execution_count": 4,
   "id": "54d53271",
   "metadata": {},
   "outputs": [
    {
     "name": "stdout",
     "output_type": "stream",
     "text": [
      "Independent t-test: Intentions Reference vs None.\n",
      "t-statistic: 1.311070747835153\n",
      "p-value: 0.1909656133664828\n"
     ]
    }
   ],
   "source": [
    "group1 = data2['IntentionsA'].dropna()\n",
    "group2 = data2['IntentionsB'].dropna()\n",
    "\n",
    "t_statistic, p_value = stats.ttest_ind(group1, group2, equal_var=False)\n",
    "\n",
    "print(\"Independent t-test: Intentions Reference vs None.\")\n",
    "print(\"t-statistic:\", t_statistic)\n",
    "print(\"p-value:\", p_value)"
   ]
  },
  {
   "cell_type": "code",
   "execution_count": 5,
   "id": "5c5edf54",
   "metadata": {},
   "outputs": [
    {
     "name": "stdout",
     "output_type": "stream",
     "text": [
      "Independent t-test: Trust Reference vs None.\n",
      "t-statistic: 1.0801290322928168\n",
      "p-value: 0.2810645790482766\n"
     ]
    }
   ],
   "source": [
    "group1 = data2['TrustA'].dropna()\n",
    "group2 = data2['TrustB'].dropna()\n",
    "\n",
    "t_statistic, p_value = stats.ttest_ind(group1, group2, equal_var=False)\n",
    "\n",
    "print(\"Independent t-test: Trust Reference vs None.\")\n",
    "print(\"t-statistic:\", t_statistic)\n",
    "print(\"p-value:\", p_value)"
   ]
  },
  {
   "cell_type": "code",
   "execution_count": 6,
   "id": "3dcc27d6",
   "metadata": {},
   "outputs": [
    {
     "name": "stdout",
     "output_type": "stream",
     "text": [
      "Independent t-test: Reliability Accurate vs Not.\n",
      "t-statistic: 5.2641429224293645\n",
      "p-value: 3.057189884173318e-07\n"
     ]
    }
   ],
   "source": [
    "group1 = data2['ReliabilityC'].dropna()\n",
    "group2 = data2['ReliabilityD'].dropna()\n",
    "\n",
    "t_statistic, p_value = stats.ttest_ind(group1, group2, equal_var=False)\n",
    "\n",
    "print(\"Independent t-test: Reliability Accurate vs Not.\")\n",
    "print(\"t-statistic:\", t_statistic)\n",
    "print(\"p-value:\", p_value)"
   ]
  },
  {
   "cell_type": "code",
   "execution_count": 7,
   "id": "79b26362",
   "metadata": {},
   "outputs": [
    {
     "name": "stdout",
     "output_type": "stream",
     "text": [
      "Independent t-test: Intentions Accurate vs Not.\n",
      "t-statistic: 1.6381337853660303\n",
      "p-value: 0.10255542730509581\n"
     ]
    }
   ],
   "source": [
    "group1 = data2['IntentionsC'].dropna()\n",
    "group2 = data2['IntentionsD'].dropna()\n",
    "\n",
    "t_statistic, p_value = stats.ttest_ind(group1, group2, equal_var=False)\n",
    "\n",
    "print(\"Independent t-test: Intentions Accurate vs Not.\")\n",
    "print(\"t-statistic:\", t_statistic)\n",
    "print(\"p-value:\", p_value)"
   ]
  },
  {
   "cell_type": "code",
   "execution_count": 8,
   "id": "0290279a",
   "metadata": {},
   "outputs": [
    {
     "name": "stdout",
     "output_type": "stream",
     "text": [
      "Independent t-test: Trust Accurate vs Not.\n",
      "t-statistic: 3.2763920665208377\n",
      "p-value: 0.001190494924230051\n"
     ]
    }
   ],
   "source": [
    "group1 = data2['TrustC'].dropna()\n",
    "group2 = data2['TrustD'].dropna()\n",
    "\n",
    "t_statistic, p_value = stats.ttest_ind(group1, group2, equal_var=False)\n",
    "\n",
    "print(\"Independent t-test: Trust Accurate vs Not.\")\n",
    "print(\"t-statistic:\", t_statistic)\n",
    "print(\"p-value:\", p_value)"
   ]
  }
 ],
 "metadata": {
  "kernelspec": {
   "display_name": "Python 3 (ipykernel)",
   "language": "python",
   "name": "python3"
  },
  "language_info": {
   "codemirror_mode": {
    "name": "ipython",
    "version": 3
   },
   "file_extension": ".py",
   "mimetype": "text/x-python",
   "name": "python",
   "nbconvert_exporter": "python",
   "pygments_lexer": "ipython3",
   "version": "3.10.9"
  }
 },
 "nbformat": 4,
 "nbformat_minor": 5
}
