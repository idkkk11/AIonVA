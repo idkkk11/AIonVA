{
 "cells": [
  {
   "cell_type": "code",
   "execution_count": 2,
   "metadata": {},
   "outputs": [],
   "source": [
    "import pandas as pd\n",
    "import statsmodels.api as sm\n",
    "data = pd.read_csv('prolific279.csv')"
   ]
  },
  {
   "cell_type": "code",
   "execution_count": 3,
   "metadata": {},
   "outputs": [
    {
     "ename": "AttributeError",
     "evalue": "module 'statsmodels.api' has no attribute 'OrdLogit'",
     "output_type": "error",
     "traceback": [
      "\u001b[1;31m---------------------------------------------------------------------------\u001b[0m",
      "\u001b[1;31mAttributeError\u001b[0m                            Traceback (most recent call last)",
      "Cell \u001b[1;32mIn[3], line 4\u001b[0m\n\u001b[0;32m      1\u001b[0m design_matrix \u001b[39m=\u001b[39m pd\u001b[39m.\u001b[39mget_dummies(data[\u001b[39m'\u001b[39m\u001b[39mEducation\u001b[39m\u001b[39m'\u001b[39m], prefix\u001b[39m=\u001b[39m\u001b[39m'\u001b[39m\u001b[39mEducation\u001b[39m\u001b[39m'\u001b[39m)\n\u001b[0;32m      2\u001b[0m design_matrix \u001b[39m=\u001b[39m sm\u001b[39m.\u001b[39madd_constant(design_matrix)\n\u001b[1;32m----> 4\u001b[0m ordinal_model \u001b[39m=\u001b[39m sm\u001b[39m.\u001b[39;49mOrdLogit(data[\u001b[39m'\u001b[39m\u001b[39mTrust\u001b[39m\u001b[39m'\u001b[39m], design_matrix)\n\u001b[0;32m      5\u001b[0m ordinal_results \u001b[39m=\u001b[39m ordinal_model\u001b[39m.\u001b[39mfit()\n\u001b[0;32m      7\u001b[0m \u001b[39mprint\u001b[39m(ordinal_results\u001b[39m.\u001b[39msummary())\n",
      "\u001b[1;31mAttributeError\u001b[0m: module 'statsmodels.api' has no attribute 'OrdLogit'"
     ]
    }
   ],
   "source": [
    "design_matrix = pd.get_dummies(data['Education'], prefix='Education')\n",
    "design_matrix = sm.add_constant(design_matrix)\n",
    "\n",
    "ordinal_model = sm.OrdLogit(data['Trust'], design_matrix)\n",
    "ordinal_results = ordinal_model.fit()\n",
    "\n",
    "print(ordinal_results.summary())"
   ]
  },
  {
   "cell_type": "code",
   "execution_count": null,
   "metadata": {},
   "outputs": [],
   "source": [
    "odds_ratios = pd.DataFrame({'Odds Ratio': ordinal_results.params,\n",
    "                            'CI Lower': ordinal_results.conf_int()[0],\n",
    "                            'CI Upper': ordinal_results.conf_int()[1]})\n",
    "\n",
    "print(odds_ratios)"
   ]
  }
 ],
 "metadata": {
  "kernelspec": {
   "display_name": "ML",
   "language": "python",
   "name": "python3"
  },
  "language_info": {
   "codemirror_mode": {
    "name": "ipython",
    "version": 3
   },
   "file_extension": ".py",
   "mimetype": "text/x-python",
   "name": "python",
   "nbconvert_exporter": "python",
   "pygments_lexer": "ipython3",
   "version": "3.10.9"
  },
  "orig_nbformat": 4
 },
 "nbformat": 4,
 "nbformat_minor": 2
}
