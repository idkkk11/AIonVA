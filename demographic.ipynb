{
 "cells": [
  {
   "cell_type": "code",
   "execution_count": 28,
   "metadata": {},
   "outputs": [],
   "source": [
    "import pandas as pd\n",
    "import scipy.stats as stats\n",
    "\n",
    "data = pd.read_csv('prolific279.csv')\n",
    "data = data.dropna(subset=[\"Reliability\", \"Understanding\", \"Familiarity\", \"Intentions\", \"Propensity\", \"Trust\", \"Age\", \"Gender\", \"Education\", \"zooFamiliarity\", \"animalFamiliarity\", \"owner\", \"user\"])"
   ]
  },
  {
   "cell_type": "code",
   "execution_count": 29,
   "metadata": {},
   "outputs": [
    {
     "name": "stdout",
     "output_type": "stream",
     "text": [
      "Correlation coefficient: -0.013122101588127068\n",
      "p-value: 0.8397337157833216\n"
     ]
    }
   ],
   "source": [
    "independent_var = data['Age'].astype(float)\n",
    "dependent_var = data['Trust'].astype(float)\n",
    "correlation_coef, p_value = stats.pearsonr(independent_var, dependent_var)\n",
    "\n",
    "print(\"Correlation coefficient:\", correlation_coef)\n",
    "print(\"p-value:\", p_value)"
   ]
  },
  {
   "cell_type": "code",
   "execution_count": 41,
   "metadata": {},
   "outputs": [
    {
     "name": "stdout",
     "output_type": "stream",
     "text": [
      "RELIABILITY f-stat: 0.03196907804123702 p-value: 0.9685407065688654\n",
      "UNDERSTANDING f-stat: 0.14956964577020226 p-value: 0.8611596805133699\n",
      "FAMILIARITY f-stat: 0.34493897545367586 p-value: 0.7086185489190142\n",
      "INTENTIONS f-stat: 0.8521849187981938 p-value: 0.42778467106453744\n",
      "PROPENSITY f-stat: 1.9679049489640519 p-value: 0.14202625601066726\n",
      "TRUST f-stat: 0.4894319647043665 p-value: 0.6135926506329733\n"
     ]
    }
   ],
   "source": [
    "grouped_data = data.groupby('Education')['Reliability']\n",
    "f_statistic, p_value = stats.f_oneway(*[group.values for name, group in grouped_data])\n",
    "\n",
    "print(\"RELIABILITY f-stat:\", f_statistic, \"p-value:\", p_value)\n",
    "\n",
    "grouped_data = data.groupby('Education')['Understanding']\n",
    "f_statistic, p_value = stats.f_oneway(*[group.values for name, group in grouped_data])\n",
    "\n",
    "print(\"UNDERSTANDING f-stat:\", f_statistic, \"p-value:\", p_value)\n",
    "\n",
    "grouped_data = data.groupby('Education')['Familiarity']\n",
    "f_statistic, p_value = stats.f_oneway(*[group.values for name, group in grouped_data])\n",
    "\n",
    "print(\"FAMILIARITY f-stat:\", f_statistic, \"p-value:\", p_value)\n",
    "\n",
    "grouped_data = data.groupby('Education')['Intentions']\n",
    "f_statistic, p_value = stats.f_oneway(*[group.values for name, group in grouped_data])\n",
    "\n",
    "print(\"INTENTIONS f-stat:\", f_statistic, \"p-value:\", p_value)\n",
    "\n",
    "grouped_data = data.groupby('Education')['Propensity']\n",
    "f_statistic, p_value = stats.f_oneway(*[group.values for name, group in grouped_data])\n",
    "\n",
    "print(\"PROPENSITY f-stat:\", f_statistic, \"p-value:\", p_value)\n",
    "\n",
    "grouped_data = data.groupby('Education')['Trust']\n",
    "f_statistic, p_value = stats.f_oneway(*[group.values for name, group in grouped_data])\n",
    "\n",
    "print(\"TRUST f-stat:\", f_statistic, \"p-value:\", p_value)\n"
   ]
  }
 ],
 "metadata": {
  "kernelspec": {
   "display_name": "ML",
   "language": "python",
   "name": "python3"
  },
  "language_info": {
   "codemirror_mode": {
    "name": "ipython",
    "version": 3
   },
   "file_extension": ".py",
   "mimetype": "text/x-python",
   "name": "python",
   "nbconvert_exporter": "python",
   "pygments_lexer": "ipython3",
   "version": "3.10.9"
  },
  "orig_nbformat": 4
 },
 "nbformat": 4,
 "nbformat_minor": 2
}
