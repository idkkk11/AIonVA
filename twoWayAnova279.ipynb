{
 "cells": [
  {
   "cell_type": "code",
   "execution_count": 1,
   "id": "47ff4ef1-e8a9-4770-9e03-441030755993",
   "metadata": {},
   "outputs": [],
   "source": [
    "# Import the necessary libraries\n",
    "import pandas as pd\n",
    "import statsmodels.api as sm\n",
    "from statsmodels.formula.api import ols\n",
    "from statsmodels.stats.multicomp import MultiComparison\n",
    "\n",
    "# Used for Independent T-Test\n",
    "from scipy import stats"
   ]
  },
  {
   "cell_type": "code",
   "execution_count": 2,
   "id": "949a2fb8-bfc9-493b-8829-88c16289e2d0",
   "metadata": {},
   "outputs": [],
   "source": [
    "# Read the data from a file or create a DataFrame\n",
    "data = pd.read_csv('prolific279.csv')"
   ]
  },
  {
   "cell_type": "code",
   "execution_count": 3,
   "id": "8cd84b96-2e77-40e0-a6a6-80fa32300dec",
   "metadata": {},
   "outputs": [
    {
     "name": "stdout",
     "output_type": "stream",
     "text": [
      "Perceived reliability.\n",
      "                      sum_sq     df          F        PR(>F)\n",
      "C(VarA)            25.456031    1.0   2.085290  1.499187e-01\n",
      "C(VarB)           351.681844    1.0  28.808837  1.759672e-07\n",
      "C(VarA):C(VarB)    59.919679    1.0   4.908460  2.758546e-02\n",
      "Residual         3198.346464  262.0        NaN           NaN\n"
     ]
    }
   ],
   "source": [
    "# Fit the two-way ANOVA model\n",
    "model = ols('Reliability ~ C(VarA) * C(VarB)', data=data).fit()\n",
    "\n",
    "# Perform the ANOVA\n",
    "anova_table = sm.stats.anova_lm(model, typ=2)\n",
    "\n",
    "print(\"Perceived reliability.\")\n",
    "print(anova_table)"
   ]
  },
  {
   "cell_type": "code",
   "execution_count": 8,
   "id": "4b927f72",
   "metadata": {},
   "outputs": [
    {
     "name": "stdout",
     "output_type": "stream",
     "text": [
      "      Contrast VarA   A   B Paired  Parametric         T         dof  \\\n",
      "0         VarA    -  A1  A2  False        True  1.286447  262.132876   \n",
      "1         VarB    -  B1  B2  False        True  5.264143  247.331128   \n",
      "2  VarA * VarB   A1  B1  B2  False        True  2.236967  131.769121   \n",
      "3  VarA * VarB   A2  B1  B2  False        True  5.300413  109.015833   \n",
      "\n",
      "  alternative         p-unc    p-corr p-adjust       BF10    hedges  \n",
      "0   two-sided  1.994220e-01       NaN      NaN      0.295  0.157393  \n",
      "1   two-sided  3.057190e-07       NaN      NaN  4.235e+04  0.647896  \n",
      "2   two-sided  2.696889e-02  0.053938     bonf      1.767  0.384400  \n",
      "3   two-sided  6.087762e-07  0.000001     bonf  2.765e+04  0.933269  \n"
     ]
    }
   ],
   "source": [
    "import pingouin as pg\n",
    "\n",
    "# Step 1: Prepare your data\n",
    "data = pd.read_csv('prolific279.csv')\n",
    "\n",
    "# Step 2: Perform the ANOVA\n",
    "result = pg.anova(data=data, dv='Reliability', between=['VarA', 'VarB'])\n",
    "\n",
    "# Step 3: Perform the Bonferroni post hoc test\n",
    "posthoc = pg.pairwise_tests(data=data, dv='Reliability', between=['VarA', 'VarB'], padjust='bonf')\n",
    "\n",
    "# Step 4: Interpret the results\n",
    "print(posthoc)"
   ]
  },
  {
   "cell_type": "code",
   "execution_count": 17,
   "id": "1041bd93-6e08-47bb-ac6b-c4526e18714f",
   "metadata": {},
   "outputs": [
    {
     "name": "stdout",
     "output_type": "stream",
     "text": [
      "Understanding.\n",
      "                      sum_sq     df          F    PR(>F)\n",
      "C(VarA)            13.603341    1.0   2.328285  0.128276\n",
      "C(VarB)           133.254756    1.0  22.807268  0.000003\n",
      "C(VarA):C(VarB)     9.018605    1.0   1.543583  0.215222\n",
      "Residual         1495.716932  256.0        NaN       NaN\n"
     ]
    }
   ],
   "source": [
    "# Fit the two-way ANOVA model\n",
    "model = ols('Understanding ~ C(VarA) * C(VarB)', data=data).fit()\n",
    "\n",
    "# Perform the ANOVA\n",
    "anova_table = sm.stats.anova_lm(model, typ=2)\n",
    "\n",
    "print(\"Understanding.\")\n",
    "print(anova_table)"
   ]
  },
  {
   "cell_type": "code",
   "execution_count": 18,
   "id": "444898bc",
   "metadata": {},
   "outputs": [
    {
     "name": "stdout",
     "output_type": "stream",
     "text": [
      "                      sum_sq     df         F    PR(>F)\n",
      "C(VarA)            12.760924    1.0  2.721877  0.100153\n",
      "C(VarB)             0.765833    1.0  0.163351  0.686413\n",
      "C(VarA):C(VarB)    15.573923    1.0  3.321884  0.069478\n",
      "Residual         1256.459270  268.0       NaN       NaN\n"
     ]
    }
   ],
   "source": [
    "# Fit the two-way ANOVA model\n",
    "model = ols('Familiarity ~ C(VarA) * C(VarB)', data=data).fit()\n",
    "\n",
    "# Perform the ANOVA\n",
    "anova_table = sm.stats.anova_lm(model, typ=2)\n",
    "\n",
    "print(anova_table)"
   ]
  },
  {
   "cell_type": "code",
   "execution_count": 19,
   "id": "7d9c3abc",
   "metadata": {},
   "outputs": [
    {
     "name": "stdout",
     "output_type": "stream",
     "text": [
      "                     sum_sq     df         F    PR(>F)\n",
      "C(VarA)            5.100635    1.0  1.804716  0.180276\n",
      "C(VarB)            7.818272    1.0  2.766275  0.097435\n",
      "C(VarA):C(VarB)    1.133398    1.0  0.401021  0.527101\n",
      "Residual         760.269831  269.0       NaN       NaN\n"
     ]
    }
   ],
   "source": [
    "# Fit the two-way ANOVA model\n",
    "model = ols('Intentions ~ C(VarA) * C(VarB)', data=data).fit()\n",
    "\n",
    "# Perform the ANOVA\n",
    "anova_table = sm.stats.anova_lm(model, typ=2)\n",
    "\n",
    "print(anova_table)"
   ]
  },
  {
   "cell_type": "code",
   "execution_count": 20,
   "id": "2dedc1f9",
   "metadata": {},
   "outputs": [
    {
     "name": "stdout",
     "output_type": "stream",
     "text": [
      "                      sum_sq     df         F    PR(>F)\n",
      "C(VarA)            19.831306    1.0  5.035284  0.025668\n",
      "C(VarB)             5.250256    1.0  1.333070  0.249308\n",
      "C(VarA):C(VarB)     2.972313    1.0  0.754688  0.385788\n",
      "Residual         1035.817227  263.0       NaN       NaN\n"
     ]
    }
   ],
   "source": [
    "# Fit the two-way ANOVA model\n",
    "model = ols('Propensity ~ C(VarA) * C(VarB)', data=data).fit()\n",
    "\n",
    "# Perform the ANOVA\n",
    "anova_table = sm.stats.anova_lm(model, typ=2)\n",
    "\n",
    "print(anova_table)"
   ]
  },
  {
   "cell_type": "code",
   "execution_count": 21,
   "id": "9983633c",
   "metadata": {},
   "outputs": [
    {
     "name": "stdout",
     "output_type": "stream",
     "text": [
      "Trust.\n",
      "                     sum_sq     df          F    PR(>F)\n",
      "C(VarA)            4.420904    1.0   1.341348  0.247816\n",
      "C(VarB)           35.939396    1.0  10.904389  0.001088\n",
      "C(VarA):C(VarB)    2.591732    1.0   0.786359  0.375990\n",
      "Residual         893.179493  271.0        NaN       NaN\n"
     ]
    }
   ],
   "source": [
    "# Fit the two-way ANOVA model\n",
    "model = ols('Trust ~ C(VarA) * C(VarB)', data=data).fit()\n",
    "\n",
    "# Perform the ANOVA\n",
    "anova_table = sm.stats.anova_lm(model, typ=2)\n",
    "\n",
    "print(\"Trust.\")\n",
    "print(anova_table)"
   ]
  }
 ],
 "metadata": {
  "kernelspec": {
   "display_name": "Python 3 (ipykernel)",
   "language": "python",
   "name": "python3"
  },
  "language_info": {
   "codemirror_mode": {
    "name": "ipython",
    "version": 3
   },
   "file_extension": ".py",
   "mimetype": "text/x-python",
   "name": "python",
   "nbconvert_exporter": "python",
   "pygments_lexer": "ipython3",
   "version": "3.10.9"
  }
 },
 "nbformat": 4,
 "nbformat_minor": 5
}
