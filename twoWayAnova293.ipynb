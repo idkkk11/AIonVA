{
 "cells": [
  {
   "cell_type": "code",
   "execution_count": 4,
   "id": "47ff4ef1-e8a9-4770-9e03-441030755993",
   "metadata": {},
   "outputs": [],
   "source": [
    "# Import the necessary libraries\n",
    "import pandas as pd\n",
    "import statsmodels.api as sm\n",
    "from statsmodels.formula.api import ols\n",
    "from statsmodels.stats.multicomp import MultiComparison\n",
    "\n",
    "# Used for Independent T-Test\n",
    "from scipy import stats"
   ]
  },
  {
   "cell_type": "code",
   "execution_count": 5,
   "id": "949a2fb8-bfc9-493b-8829-88c16289e2d0",
   "metadata": {},
   "outputs": [],
   "source": [
    "# Read the data from a file or create a DataFrame\n",
    "data = pd.read_csv('prolific293.csv')"
   ]
  },
  {
   "cell_type": "code",
   "execution_count": 6,
   "id": "8cd84b96-2e77-40e0-a6a6-80fa32300dec",
   "metadata": {},
   "outputs": [
    {
     "name": "stdout",
     "output_type": "stream",
     "text": [
      "Perceived reliability.\n",
      "                             sum_sq     df         F    PR(>F)\n",
      "C(Reference)               0.167043    1.0  1.327266  0.250244\n",
      "C(Accuracy)                1.005890    1.0  7.992464  0.005025\n",
      "C(Reference):C(Accuracy)   0.101748    1.0  0.808451  0.369327\n",
      "Residual                  36.372050  289.0       NaN       NaN\n"
     ]
    }
   ],
   "source": [
    "# Fit the two-way ANOVA model\n",
    "model = ols('Reliability ~ C(Reference) * C(Accuracy)', data=data).fit()\n",
    "\n",
    "# Perform the ANOVA\n",
    "anova_table = sm.stats.anova_lm(model, typ=2)\n",
    "\n",
    "print(\"Perceived reliability.\")\n",
    "print(anova_table)"
   ]
  },
  {
   "cell_type": "code",
   "execution_count": 7,
   "id": "dae11069",
   "metadata": {},
   "outputs": [
    {
     "name": "stdout",
     "output_type": "stream",
     "text": [
      "Perceived reliability.\n",
      "                              sum_sq     df          F    PR(>F)\n",
      "C(Reference)                0.410755    1.0   0.955317  0.329187\n",
      "C(Accuracy)                 7.541731    1.0  17.540256  0.000037\n",
      "C(Reference):C(Accuracy)    0.733146    1.0   1.705120  0.192658\n",
      "Residual                  124.260457  289.0        NaN       NaN\n"
     ]
    }
   ],
   "source": [
    "# Fit the two-way ANOVA model\n",
    "model = ols('Understanding ~ C(Reference) * C(Accuracy)', data=data).fit()\n",
    "\n",
    "# Perform the ANOVA\n",
    "anova_table = sm.stats.anova_lm(model, typ=2)\n",
    "\n",
    "print(\"Perceived reliability.\")\n",
    "print(anova_table)"
   ]
  },
  {
   "cell_type": "code",
   "execution_count": 8,
   "id": "483b515f",
   "metadata": {},
   "outputs": [
    {
     "name": "stdout",
     "output_type": "stream",
     "text": [
      "Perceived reliability.\n",
      "                              sum_sq     df         F    PR(>F)\n",
      "C(Reference)                1.261169    1.0  1.631373  0.202538\n",
      "C(Accuracy)                 2.051139    1.0  2.653230  0.104429\n",
      "C(Reference):C(Accuracy)    0.023058    1.0  0.029827  0.863005\n",
      "Residual                  223.417916  289.0       NaN       NaN\n"
     ]
    }
   ],
   "source": [
    "# Fit the two-way ANOVA model\n",
    "model = ols('Intentions ~ C(Reference) * C(Accuracy)', data=data).fit()\n",
    "\n",
    "# Perform the ANOVA\n",
    "anova_table = sm.stats.anova_lm(model, typ=2)\n",
    "\n",
    "print(\"Perceived reliability.\")\n",
    "print(anova_table)"
   ]
  },
  {
   "cell_type": "code",
   "execution_count": 9,
   "id": "7c3982ff",
   "metadata": {},
   "outputs": [
    {
     "name": "stdout",
     "output_type": "stream",
     "text": [
      "Perceived reliability.\n",
      "                              sum_sq     df         F    PR(>F)\n",
      "C(Reference)                1.050282    1.0  2.167325  0.142059\n",
      "C(Accuracy)                 0.408343    1.0  0.842643  0.359407\n",
      "C(Reference):C(Accuracy)    0.000133    1.0  0.000275  0.986787\n",
      "Residual                  140.048824  289.0       NaN       NaN\n"
     ]
    }
   ],
   "source": [
    "# Fit the two-way ANOVA model\n",
    "model = ols('Propensity ~ C(Reference) * C(Accuracy)', data=data).fit()\n",
    "\n",
    "# Perform the ANOVA\n",
    "anova_table = sm.stats.anova_lm(model, typ=2)\n",
    "\n",
    "print(\"Perceived reliability.\")\n",
    "print(anova_table)"
   ]
  },
  {
   "cell_type": "code",
   "execution_count": 10,
   "id": "280e9674",
   "metadata": {},
   "outputs": [
    {
     "name": "stdout",
     "output_type": "stream",
     "text": [
      "Perceived reliability.\n",
      "                              sum_sq     df         F    PR(>F)\n",
      "C(Reference)                1.097798    1.0  1.302106  0.254774\n",
      "C(Accuracy)                 7.267894    1.0  8.620500  0.003591\n",
      "C(Reference):C(Accuracy)    0.305585    1.0  0.362456  0.547617\n",
      "Residual                  243.654247  289.0       NaN       NaN\n"
     ]
    }
   ],
   "source": [
    "# Fit the two-way ANOVA model\n",
    "model = ols('Trust ~ C(Reference) * C(Accuracy)', data=data).fit()\n",
    "\n",
    "# Perform the ANOVA\n",
    "anova_table = sm.stats.anova_lm(model, typ=2)\n",
    "\n",
    "print(\"Perceived reliability.\")\n",
    "print(anova_table)"
   ]
  }
 ],
 "metadata": {
  "kernelspec": {
   "display_name": "Python 3 (ipykernel)",
   "language": "python",
   "name": "python3"
  },
  "language_info": {
   "codemirror_mode": {
    "name": "ipython",
    "version": 3
   },
   "file_extension": ".py",
   "mimetype": "text/x-python",
   "name": "python",
   "nbconvert_exporter": "python",
   "pygments_lexer": "ipython3",
   "version": "3.10.9"
  }
 },
 "nbformat": 4,
 "nbformat_minor": 5
}
