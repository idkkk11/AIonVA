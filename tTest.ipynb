{
 "cells": [
  {
   "cell_type": "code",
   "execution_count": 1,
   "id": "47ff4ef1-e8a9-4770-9e03-441030755993",
   "metadata": {},
   "outputs": [],
   "source": [
    "# Import the necessary libraries\n",
    "import pandas as pd\n",
    "import statsmodels.api as sm\n",
    "from statsmodels.formula.api import ols\n",
    "\n",
    "# Used for Independent T-Test\n",
    "from scipy import stats"
   ]
  },
  {
   "cell_type": "code",
   "execution_count": 2,
   "id": "3b017a90",
   "metadata": {},
   "outputs": [],
   "source": [
    "# FOR INDEPENDENT T TESTS\n",
    "data2 = pd.read_csv('tTest.csv')"
   ]
  },
  {
   "cell_type": "code",
   "execution_count": 3,
   "id": "2d22ce2b",
   "metadata": {},
   "outputs": [
    {
     "name": "stdout",
     "output_type": "stream",
     "text": [
      "Independent t-test: Reliability Reference vs None.\n",
      "t-statistic: 1.0608689793918746\n",
      "p-value: 0.2901089387279024\n"
     ]
    }
   ],
   "source": [
    "group1 = data2['ReliabilityA'].dropna()\n",
    "group2 = data2['ReliabilityB'].dropna()\n",
    "\n",
    "t_statistic, p_value = stats.ttest_ind(group1, group2, equal_var=False)\n",
    "\n",
    "print(\"Independent t-test: Reliability Reference vs None.\")\n",
    "print(\"t-statistic:\", t_statistic)\n",
    "print(\"p-value:\", p_value)"
   ]
  },
  {
   "cell_type": "code",
   "execution_count": 4,
   "id": "54d53271",
   "metadata": {},
   "outputs": [
    {
     "name": "stdout",
     "output_type": "stream",
     "text": [
      "Independent t-test: Intentions Reference vs None.\n",
      "t-statistic: -0.13330404612991045\n",
      "p-value: 0.8940934641712581\n"
     ]
    }
   ],
   "source": [
    "group1 = data2['IntentionsA'].dropna()\n",
    "group2 = data2['IntentionsB'].dropna()\n",
    "\n",
    "t_statistic, p_value = stats.ttest_ind(group1, group2, equal_var=False)\n",
    "\n",
    "print(\"Independent t-test: Intentions Reference vs None.\")\n",
    "print(\"t-statistic:\", t_statistic)\n",
    "print(\"p-value:\", p_value)"
   ]
  },
  {
   "cell_type": "code",
   "execution_count": 5,
   "id": "5c5edf54",
   "metadata": {},
   "outputs": [
    {
     "name": "stdout",
     "output_type": "stream",
     "text": [
      "Independent t-test: Trust Reference vs None.\n",
      "t-statistic: 0.833756385932138\n",
      "p-value: 0.4054431162023532\n"
     ]
    }
   ],
   "source": [
    "group1 = data2['TrustA'].dropna()\n",
    "group2 = data2['TrustB'].dropna()\n",
    "\n",
    "t_statistic, p_value = stats.ttest_ind(group1, group2, equal_var=False)\n",
    "\n",
    "print(\"Independent t-test: Trust Reference vs None.\")\n",
    "print(\"t-statistic:\", t_statistic)\n",
    "print(\"p-value:\", p_value)"
   ]
  },
  {
   "cell_type": "code",
   "execution_count": 6,
   "id": "3dcc27d6",
   "metadata": {},
   "outputs": [
    {
     "name": "stdout",
     "output_type": "stream",
     "text": [
      "Independent t-test: Reliability Accurate vs Not.\n",
      "t-statistic: 3.7288677832588832\n",
      "p-value: 0.00025836547557530725\n"
     ]
    }
   ],
   "source": [
    "group1 = data2['ReliabilityC'].dropna()\n",
    "group2 = data2['ReliabilityD'].dropna()\n",
    "\n",
    "t_statistic, p_value = stats.ttest_ind(group1, group2, equal_var=False)\n",
    "\n",
    "print(\"Independent t-test: Reliability Accurate vs Not.\")\n",
    "print(\"t-statistic:\", t_statistic)\n",
    "print(\"p-value:\", p_value)"
   ]
  },
  {
   "cell_type": "code",
   "execution_count": 7,
   "id": "79b26362",
   "metadata": {},
   "outputs": [
    {
     "name": "stdout",
     "output_type": "stream",
     "text": [
      "Independent t-test: Intentions Accurate vs Not.\n",
      "t-statistic: 1.018998826488712\n",
      "p-value: 0.3094726037278359\n"
     ]
    }
   ],
   "source": [
    "group1 = data2['IntentionsC'].dropna()\n",
    "group2 = data2['IntentionsD'].dropna()\n",
    "\n",
    "t_statistic, p_value = stats.ttest_ind(group1, group2, equal_var=False)\n",
    "\n",
    "print(\"Independent t-test: Intentions Accurate vs Not.\")\n",
    "print(\"t-statistic:\", t_statistic)\n",
    "print(\"p-value:\", p_value)"
   ]
  },
  {
   "cell_type": "code",
   "execution_count": 8,
   "id": "0290279a",
   "metadata": {},
   "outputs": [
    {
     "name": "stdout",
     "output_type": "stream",
     "text": [
      "Independent t-test: Trust Accurate vs Not.\n",
      "t-statistic: 2.501173557314448\n",
      "p-value: 0.01320323506413466\n"
     ]
    }
   ],
   "source": [
    "group1 = data2['TrustC'].dropna()\n",
    "group2 = data2['TrustD'].dropna()\n",
    "\n",
    "t_statistic, p_value = stats.ttest_ind(group1, group2, equal_var=False)\n",
    "\n",
    "print(\"Independent t-test: Trust Accurate vs Not.\")\n",
    "print(\"t-statistic:\", t_statistic)\n",
    "print(\"p-value:\", p_value)"
   ]
  }
 ],
 "metadata": {
  "kernelspec": {
   "display_name": "Python 3 (ipykernel)",
   "language": "python",
   "name": "python3"
  },
  "language_info": {
   "codemirror_mode": {
    "name": "ipython",
    "version": 3
   },
   "file_extension": ".py",
   "mimetype": "text/x-python",
   "name": "python",
   "nbconvert_exporter": "python",
   "pygments_lexer": "ipython3",
   "version": "3.10.9"
  }
 },
 "nbformat": 4,
 "nbformat_minor": 5
}
